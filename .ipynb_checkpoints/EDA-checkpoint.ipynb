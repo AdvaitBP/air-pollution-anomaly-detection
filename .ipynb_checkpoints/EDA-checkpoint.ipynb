{
 "cells": [
  {
   "cell_type": "markdown",
   "id": "1b6a4267-9501-497d-ae96-9f7bcb334189",
   "metadata": {},
   "source": [
    "Exploratory Data Analysis: Air Quality and Weather Data\n",
    "Project Description:\n",
    "This notebook performs exploratory data analysis (EDA) on air quality and weather data for the Phoenix-Mesa-Scottsdale area. The analysis aims to uncover trends, relationships, and insights that inform feature engineering and model selection for anomaly detection and forecasting."
   ]
  },
  {
   "cell_type": "code",
   "execution_count": null,
   "id": "9ea7600c-2058-45c1-a2d3-306c764efce7",
   "metadata": {},
   "outputs": [],
   "source": [
    "import pandas as pd\n",
    "import numpy as np\n",
    "import matplotlib.pyplot as plt\n",
    "import seaborn as sns\n",
    "\n",
    "import plotly.express as px\n",
    "import plotly.graph_objects as go\n",
    "\n",
    "from scipy.stats import zscore\n",
    "\n",
    "pd.set_option('display.max_columns', None)\n",
    "sns.set_theme(style=\"whitegrid\")\n"
   ]
  }
 ],
 "metadata": {
  "kernelspec": {
   "display_name": "Python 3 (ipykernel)",
   "language": "python",
   "name": "python3"
  },
  "language_info": {
   "codemirror_mode": {
    "name": "ipython",
    "version": 3
   },
   "file_extension": ".py",
   "mimetype": "text/x-python",
   "name": "python",
   "nbconvert_exporter": "python",
   "pygments_lexer": "ipython3",
   "version": "3.12.4"
  }
 },
 "nbformat": 4,
 "nbformat_minor": 5
}
